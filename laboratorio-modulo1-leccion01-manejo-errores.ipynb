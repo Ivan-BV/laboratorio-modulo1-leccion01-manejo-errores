{
 "cells": [
  {
   "cell_type": "markdown",
   "metadata": {},
   "source": [
    "\n",
    "<div style=\"text-align: center;\">\n",
    "  <img src=\"https://github.com/Hack-io-Data/Imagenes/blob/main/01-LogosHackio/logo_celeste@4x.png?raw=true\" alt=\"esquema\" />\n",
    "</div>\n"
   ]
  },
  {
   "cell_type": "markdown",
   "metadata": {},
   "source": [
    "# Laboratorio de Python: manejo de errores."
   ]
  },
  {
   "cell_type": "markdown",
   "metadata": {},
   "source": [
    "## Ejercicio 1: División con manejo de excepciones\n",
    "\n",
    "Escribe un programa que pida al usuario dos números e intente dividirlos. Si el usuario ingresa un valor no numérico o intenta dividir por cero, maneja esas excepciones de manera adecuada. Asegúrate de mostrar un mensaje indicando si la división fue exitosa o no.\n"
   ]
  },
  {
   "cell_type": "code",
   "execution_count": null,
   "metadata": {},
   "outputs": [],
   "source": [
    "try:\n",
    "    n1 = int(input(\"Introduce número 1:\"))\n",
    "    n2 = int(input(\"Introduce número 2:\"))\n",
    "\n",
    "    print(n1/n2)\n",
    "except TypeError:\n",
    "    print(\"No es un valor numerico\")\n",
    "except ZeroDivisionError:\n",
    "    print(\"No se puede dividir por cero\")"
   ]
  },
  {
   "cell_type": "markdown",
   "metadata": {},
   "source": [
    "## Ejercicio 2: Acceso a archivos\n",
    "\n",
    "Escribe un programa que intente abrir un archivo llamado \"datos.txt\". Si el archivo no existe, captura la excepción y muestra un mensaje de error. Asegúrate de cerrar el archivo correctamente en la sección `finally`.\n"
   ]
  },
  {
   "cell_type": "code",
   "execution_count": 3,
   "metadata": {},
   "outputs": [
    {
     "name": "stdout",
     "output_type": "stream",
     "text": [
      "No existe el archivo\n"
     ]
    }
   ],
   "source": [
    "doc = None\n",
    "try:\n",
    "    doc = open('datos.txt')\n",
    "except IOError:\n",
    "    print(\"No existe el archivo\")\n",
    "finally:\n",
    "    if doc is not None:\n",
    "        doc.close()"
   ]
  },
  {
   "cell_type": "markdown",
   "metadata": {},
   "source": [
    "## Ejercicio 3: Conversión de cadenas a enteros\n",
    "\n",
    "Escribe un programa que pida una lista de números separados por comas y convierta cada valor a un número entero. Maneja las excepciones para valores que no sean convertibles y asegúrate de informar si la conversión fue exitosa o no.\n"
   ]
  },
  {
   "cell_type": "code",
   "execution_count": 2,
   "metadata": {},
   "outputs": [
    {
     "name": "stdout",
     "output_type": "stream",
     "text": [
      "Convertido exitosamente\n"
     ]
    }
   ],
   "source": [
    "try:\n",
    "    lista_numeros = []\n",
    "    cadena = input(\"Introduce cadena de numeros separado por comas: \")\n",
    "    cadena = cadena.split(\",\")\n",
    "    for n in cadena:\n",
    "        lista_numeros.append(int(n))\n",
    "    print(\"Convertido exitosamente\")\n",
    "except TypeError:\n",
    "    print(\"El tipo no es valido\")\n",
    "except ValueError:\n",
    "    print(f\"La cadena introducida no es valida\")\n",
    "\n"
   ]
  },
  {
   "cell_type": "markdown",
   "metadata": {},
   "source": [
    "#### Ejercicio 4: Cálculo del promedio con manejo de excepciones\n",
    "\n",
    "Escribe una función que reciba una lista de números y calcule su promedio. Si la lista está vacía, lanza una excepción personalizada y maneja el error adecuadamente.\n"
   ]
  },
  {
   "cell_type": "code",
   "execution_count": 14,
   "metadata": {},
   "outputs": [
    {
     "name": "stdout",
     "output_type": "stream",
     "text": [
      "La cadena contiene valores no validos\n"
     ]
    }
   ],
   "source": [
    "try:\n",
    "    cadena = input(\"Introduce una lista de números: \")\n",
    "    cadena = cadena.split(\",\")\n",
    "    lista_numeros = []\n",
    "    for n in cadena:\n",
    "        lista_numeros.append(int(n))\n",
    "    print(f\"El promedio es: {sum(lista_numeros)/len(lista_numeros)}\")\n",
    "except ValueError:\n",
    "    if len(cadena) == 0:\n",
    "        print(\"La cadena esta vacía\")\n",
    "    else:\n",
    "        print(\"La cadena contiene valores no validos\")\n"
   ]
  },
  {
   "cell_type": "markdown",
   "metadata": {},
   "source": [
    "#### Ejercicio 5: Conversión segura de números\n",
    "\n",
    "Escribe un programa que convierta una cadena a número flotante e intente realizar una operación aritmética. Si la conversión falla, maneja la excepción y continúa con el flujo normal."
   ]
  },
  {
   "cell_type": "code",
   "execution_count": null,
   "metadata": {},
   "outputs": [],
   "source": []
  },
  {
   "cell_type": "markdown",
   "metadata": {},
   "source": [
    "#### Ejercicio 6: Acceso a claves en diccionarios\n",
    "\n",
    "Escribe un programa que intente acceder a una clave específica en un diccionario. Si la clave no existe, maneja la excepción `KeyError` y muestra un mensaje indicando el problema."
   ]
  },
  {
   "cell_type": "code",
   "execution_count": null,
   "metadata": {},
   "outputs": [],
   "source": []
  },
  {
   "cell_type": "markdown",
   "metadata": {},
   "source": [
    "\n",
    "#### Ejercicio 7: Verificación de entradas de usuario\n",
    "\n",
    "Escribe un programa que pida al usuario que introduzca su edad. Si el usuario ingresa un valor no numérico o un valor fuera del rango esperado (por ejemplo, menor que 0 o mayor que 120), maneja las excepciones adecuadamente."
   ]
  },
  {
   "cell_type": "code",
   "execution_count": null,
   "metadata": {},
   "outputs": [],
   "source": []
  },
  {
   "cell_type": "markdown",
   "metadata": {},
   "source": [
    "#### Ejercicio 8: Extracción de valores de una lista\n",
    "\n",
    "Escribe una función que intente acceder a un índice específico en una lista. Si el índice está fuera del rango, maneja la excepción `IndexError` y muestra un mensaje adecuado.\n"
   ]
  },
  {
   "cell_type": "code",
   "execution_count": null,
   "metadata": {},
   "outputs": [],
   "source": []
  }
 ],
 "metadata": {
  "kernelspec": {
   "display_name": "contenido",
   "language": "python",
   "name": "python3"
  },
  "language_info": {
   "codemirror_mode": {
    "name": "ipython",
    "version": 3
   },
   "file_extension": ".py",
   "mimetype": "text/x-python",
   "name": "python",
   "nbconvert_exporter": "python",
   "pygments_lexer": "ipython3",
   "version": "3.12.6"
  }
 },
 "nbformat": 4,
 "nbformat_minor": 2
}
